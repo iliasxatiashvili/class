{
  "nbformat": 4,
  "nbformat_minor": 0,
  "metadata": {
    "colab": {
      "provenance": [],
      "include_colab_link": true
    },
    "kernelspec": {
      "name": "python3",
      "display_name": "Python 3"
    },
    "language_info": {
      "name": "python"
    }
  },
  "cells": [
    {
      "cell_type": "markdown",
      "metadata": {
        "id": "view-in-github",
        "colab_type": "text"
      },
      "source": [
        "<a href=\"https://colab.research.google.com/github/iliasxatiashvili/class/blob/main/september_26_2023_intro_to_python.ipynb\" target=\"_parent\"><img src=\"https://colab.research.google.com/assets/colab-badge.svg\" alt=\"Open In Colab\"/></a>"
      ]
    },
    {
      "cell_type": "code",
      "execution_count": null,
      "metadata": {
        "colab": {
          "base_uri": "https://localhost:8080/"
        },
        "id": "NKcmGlMGJIF4",
        "outputId": "4a60eba3-cb22-4c35-c1bd-b8ff1b38d940"
      },
      "outputs": [
        {
          "output_type": "stream",
          "name": "stdout",
          "text": [
            "Hi I am Ilias\n"
          ]
        }
      ],
      "source": [
        "print(\"Hi I am Ilias\")"
      ]
    },
    {
      "cell_type": "code",
      "source": [
        "print(3*2)\n",
        "\n",
        "print(\"3X2\")\n"
      ],
      "metadata": {
        "colab": {
          "base_uri": "https://localhost:8080/"
        },
        "id": "ozchp3qzJeoz",
        "outputId": "24ae44af-a92a-476f-e097-7717ae652f7a"
      },
      "execution_count": null,
      "outputs": [
        {
          "output_type": "stream",
          "name": "stdout",
          "text": [
            "6\n",
            "3X2\n"
          ]
        }
      ]
    },
    {
      "cell_type": "code",
      "source": [
        "print(3*2)\n",
        "\n",
        "print(\"3X2\")\n",
        "\n",
        "\n",
        "\n"
      ],
      "metadata": {
        "colab": {
          "base_uri": "https://localhost:8080/"
        },
        "id": "AC2d75ooE7wm",
        "outputId": "68e6466c-012e-4109-9bb1-796919a0f4db"
      },
      "execution_count": null,
      "outputs": [
        {
          "output_type": "stream",
          "name": "stdout",
          "text": [
            "6\n",
            "3X2\n"
          ]
        }
      ]
    },
    {
      "cell_type": "code",
      "source": [
        "# addition\n",
        "\n",
        "print(\"here is some addition 2+4=\", 2+4)\n",
        "\n",
        "# subtraction\n",
        "\n",
        "print(4-3)\n",
        "\n",
        "# division\n",
        "\n",
        "print(3/2)\n",
        "\n",
        "# multiplication\n",
        "\n",
        "print(3*2)\n"
      ],
      "metadata": {
        "colab": {
          "base_uri": "https://localhost:8080/"
        },
        "id": "6yT7iqpuJxqG",
        "outputId": "f392755d-dad7-4297-ea88-8740c4e42111"
      },
      "execution_count": null,
      "outputs": [
        {
          "output_type": "stream",
          "name": "stdout",
          "text": [
            "here is some addition 2+4= 6\n",
            "1\n",
            "1.5\n",
            "6\n"
          ]
        }
      ]
    },
    {
      "cell_type": "code",
      "source": [
        "# addition\n",
        "\n",
        "print(\"here is some addition 2+4=\", 2+4)\n",
        "\n",
        "# subtraction\n",
        "\n",
        "print(4-3)\n",
        "\n",
        "# division\n",
        "\n",
        "print(3/2)\n",
        "\n",
        "# multiplication\n",
        "\n",
        "print(3*2)\n"
      ],
      "metadata": {
        "colab": {
          "base_uri": "https://localhost:8080/"
        },
        "id": "GPjIfhpxFINN",
        "outputId": "7609d632-2a37-44a3-b6a6-165f03b8fdcd"
      },
      "execution_count": null,
      "outputs": [
        {
          "output_type": "stream",
          "name": "stdout",
          "text": [
            "here is some addition 2+4= 6\n",
            "1\n",
            "1.5\n",
            "6\n"
          ]
        }
      ]
    },
    {
      "cell_type": "code",
      "source": [
        "# this means make a variable called x and put the value 3 in it\n",
        "\n",
        "x=3\n",
        "y=2\n",
        "\n",
        "print(x*y)\n"
      ],
      "metadata": {
        "colab": {
          "base_uri": "https://localhost:8080/"
        },
        "id": "Y_ssAnWTKOc2",
        "outputId": "212eba2c-78f7-444b-815a-51e877edd00a"
      },
      "execution_count": null,
      "outputs": [
        {
          "output_type": "stream",
          "name": "stdout",
          "text": [
            "6\n"
          ]
        }
      ]
    },
    {
      "cell_type": "code",
      "source": [
        "print(x/y)"
      ],
      "metadata": {
        "colab": {
          "base_uri": "https://localhost:8080/"
        },
        "id": "j1187CPbKkZ8",
        "outputId": "a85a2af7-f82f-4a5e-d6a6-50b73c560bb0"
      },
      "execution_count": null,
      "outputs": [
        {
          "output_type": "stream",
          "name": "stdout",
          "text": [
            "1.5\n"
          ]
        }
      ]
    },
    {
      "cell_type": "code",
      "source": [
        "# adding letters\n",
        "\n",
        "# but in computers we say concatenation\n",
        "\n",
        "print(\"walker\" + \" \" + \"ilias\")\n",
        "\n",
        "\n",
        "print(\"nina\")\n"
      ],
      "metadata": {
        "colab": {
          "base_uri": "https://localhost:8080/"
        },
        "id": "8b3YP4HsK2Ct",
        "outputId": "8102b5be-5b4d-46d4-db57-4a360eff84f0"
      },
      "execution_count": null,
      "outputs": [
        {
          "output_type": "stream",
          "name": "stdout",
          "text": [
            "walker ilias\n",
            "nina\n"
          ]
        }
      ]
    },
    {
      "cell_type": "code",
      "source": [
        "w=\"walker\"\n",
        "i=\"ilias\"\n",
        "\n",
        "print(w+i)"
      ],
      "metadata": {
        "colab": {
          "base_uri": "https://localhost:8080/"
        },
        "id": "_YkCPecwN3yU",
        "outputId": "13677ec0-7a49-42bd-b23c-2bf261d7969a"
      },
      "execution_count": null,
      "outputs": [
        {
          "output_type": "stream",
          "name": "stdout",
          "text": [
            "walkerilias\n"
          ]
        }
      ]
    },
    {
      "cell_type": "code",
      "source": [
        "'''\n",
        "\n",
        "homework:\n",
        "\n",
        "write a program to add 1, 2, and 3\n",
        "\n",
        "write a program to print \"walker nina george raphael alessandra\"\n",
        "\n",
        "'''\n",
        "\n",
        "\n",
        "\n",
        "'''"
      ],
      "metadata": {
        "id": "P__yyQvQOFhD",
        "colab": {
          "base_uri": "https://localhost:8080/",
          "height": 140
        },
        "outputId": "7b8a0a2b-683f-4981-f12f-84b6aa41a4b4"
      },
      "execution_count": null,
      "outputs": [
        {
          "output_type": "error",
          "ename": "SyntaxError",
          "evalue": "ignored",
          "traceback": [
            "\u001b[0;36m  File \u001b[0;32m\"<ipython-input-2-0b4b60f758f4>\"\u001b[0;36m, line \u001b[0;32m13\u001b[0m\n\u001b[0;31m    '''\u001b[0m\n\u001b[0m    ^\u001b[0m\n\u001b[0;31mSyntaxError\u001b[0m\u001b[0;31m:\u001b[0m incomplete input\n"
          ]
        }
      ]
    }
  ]
}