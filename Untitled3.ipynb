{
  "nbformat": 4,
  "nbformat_minor": 0,
  "metadata": {
    "colab": {
      "provenance": [],
      "authorship_tag": "ABX9TyO8l3aRqUfO3LCjMZkb+sLi",
      "include_colab_link": true
    },
    "kernelspec": {
      "name": "python3",
      "display_name": "Python 3"
    },
    "language_info": {
      "name": "python"
    }
  },
  "cells": [
    {
      "cell_type": "markdown",
      "metadata": {
        "id": "view-in-github",
        "colab_type": "text"
      },
      "source": [
        "<a href=\"https://colab.research.google.com/github/iliasxatiashvili/class/blob/main/Untitled3.ipynb\" target=\"_parent\"><img src=\"https://colab.research.google.com/assets/colab-badge.svg\" alt=\"Open In Colab\"/></a>"
      ]
    },
    {
      "cell_type": "code",
      "execution_count": 8,
      "metadata": {
        "id": "i_d8GBsdortP"
      },
      "outputs": [],
      "source": [
        "def multiply_three_numbers(a, b, c):\n",
        "    result = a * b * c\n",
        "    return result\n",
        "\n",
        "\n"
      ]
    },
    {
      "cell_type": "code",
      "source": [
        "def subtract_two_numbers(a, b):\n",
        "    result = a - b\n",
        "    return result\n"
      ],
      "metadata": {
        "id": "e6sFbXwApMFB"
      },
      "execution_count": 10,
      "outputs": []
    },
    {
      "cell_type": "code",
      "source": [
        "# Define the functions\n",
        "def multiply_three_numbers(a, b, c):\n",
        "    result = a * b * c\n",
        "    return result\n",
        "\n",
        "def subtract_two_numbers(a, b):\n",
        "    result = a - b\n",
        "    return result\n",
        "\n",
        "# Calculate (2*3*4) + (4-2)\n",
        "product_result = multiply_three_numbers(2, 3, 4)\n",
        "subtract_result = subtract_two_numbers(4, 2)\n",
        "final_result = product_result + subtract_result\n",
        "\n",
        "# Print the final result\n",
        "print(final_result)  # This will print 24 + 2 = 26\n"
      ],
      "metadata": {
        "id": "ctXiXG9ppqyI",
        "outputId": "1d3e2c78-2267-4c7d-cb03-a346c540175a",
        "colab": {
          "base_uri": "https://localhost:8080/"
        }
      },
      "execution_count": 11,
      "outputs": [
        {
          "output_type": "stream",
          "name": "stdout",
          "text": [
            "26\n"
          ]
        }
      ]
    }
  ]
}