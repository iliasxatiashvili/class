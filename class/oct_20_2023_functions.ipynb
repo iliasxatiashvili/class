{
  "nbformat": 4,
  "nbformat_minor": 0,
  "metadata": {
    "colab": {
      "provenance": [],
      "include_colab_link": true
    },
    "kernelspec": {
      "name": "python3",
      "display_name": "Python 3"
    },
    "language_info": {
      "name": "python"
    }
  },
  "cells": [
    {
      "cell_type": "markdown",
      "metadata": {
        "id": "view-in-github",
        "colab_type": "text"
      },
      "source": [
        "<a href=\"https://colab.research.google.com/github/iliasxatiashvili/class/blob/main/class/oct_20_2023_functions.ipynb\" target=\"_parent\"><img src=\"https://colab.research.google.com/assets/colab-badge.svg\" alt=\"Open In Colab\"/></a>"
      ]
    },
    {
      "cell_type": "code",
      "execution_count": null,
      "metadata": {
        "colab": {
          "base_uri": "https://localhost:8080/"
        },
        "id": "5TIgr4X3S78Y",
        "outputId": "21a8933a-011d-4fe1-c97a-a4e2e6dd6f81"
      },
      "outputs": [
        {
          "output_type": "execute_result",
          "data": {
            "text/plain": [
              "6"
            ]
          },
          "metadata": {},
          "execution_count": 12
        }
      ],
      "source": [
        "2*3"
      ]
    },
    {
      "cell_type": "code",
      "source": [
        "3*4"
      ],
      "metadata": {
        "colab": {
          "base_uri": "https://localhost:8080/"
        },
        "id": "pmoV4QGcTHns",
        "outputId": "214130cf-b82c-411c-f5fc-1ea35369f701"
      },
      "execution_count": null,
      "outputs": [
        {
          "output_type": "execute_result",
          "data": {
            "text/plain": [
              "12"
            ]
          },
          "metadata": {},
          "execution_count": 2
        }
      ]
    },
    {
      "cell_type": "code",
      "source": [
        "7*6"
      ],
      "metadata": {
        "colab": {
          "base_uri": "https://localhost:8080/"
        },
        "id": "y_LycM2oTJjH",
        "outputId": "a017c42a-10c9-49d7-e4c7-af255a02e03d"
      },
      "execution_count": null,
      "outputs": [
        {
          "output_type": "execute_result",
          "data": {
            "text/plain": [
              "42"
            ]
          },
          "metadata": {},
          "execution_count": 3
        }
      ]
    },
    {
      "cell_type": "code",
      "source": [],
      "metadata": {
        "id": "lj6M6pheZK6r"
      },
      "execution_count": null,
      "outputs": []
    },
    {
      "cell_type": "code",
      "source": [
        "def ilias(money):\n",
        "  print(\"ilias has this much money\", money)\n",
        "\n",
        "ilias(100)"
      ],
      "metadata": {
        "id": "sHWv2PtA285F",
        "outputId": "9d46f2f9-cb52-46d3-a433-ac1609435e67",
        "colab": {
          "base_uri": "https://localhost:8080/"
        }
      },
      "execution_count": null,
      "outputs": [
        {
          "output_type": "stream",
          "name": "stdout",
          "text": [
            "ilias has this much money 100\n"
          ]
        }
      ]
    },
    {
      "cell_type": "code",
      "source": [
        "def iliasGoToBank(money):\n",
        "\n",
        "  return money\n",
        "\n",
        "\n",
        "print(\"ilias go get \", iliasGoToBank(100), \"dollars\")\n",
        "\n",
        "\n"
      ],
      "metadata": {
        "id": "Ktr689tS3QCA",
        "outputId": "c3daeb78-ae5d-4dfb-a93f-de39cf0036cf",
        "colab": {
          "base_uri": "https://localhost:8080/"
        }
      },
      "execution_count": null,
      "outputs": [
        {
          "output_type": "stream",
          "name": "stdout",
          "text": [
            "ilias go get  100 dollars\n"
          ]
        }
      ]
    },
    {
      "cell_type": "code",
      "source": [
        "def doubleMoney(money):\n",
        "\n",
        "  return 2 * money\n",
        "\n",
        "print(\"now ilias has \", doubleMoney(100))\n",
        "\n"
      ],
      "metadata": {
        "id": "tTHfW3h43yhQ",
        "outputId": "34ac1cc1-bbcb-420c-ea10-5565781909f5",
        "colab": {
          "base_uri": "https://localhost:8080/"
        }
      },
      "execution_count": null,
      "outputs": [
        {
          "output_type": "stream",
          "name": "stdout",
          "text": [
            "now ilias has  200\n"
          ]
        }
      ]
    },
    {
      "cell_type": "code",
      "source": [
        "# we can make a function so that we don't have to type the same thing each time\n",
        "\n",
        "# like we can make a multiply function.  this will multiply two numbers\n",
        "\n",
        "\n",
        "# def -- means function\n",
        "# someName\n",
        "# in here () we give it numbers to multiply\n",
        "\n",
        "# so this function is called multiply and it takes two inputs a and b\n",
        "\n",
        "\n",
        "def multiply(a,b):\n",
        "\n",
        "  # here we make c hold the calculation\n",
        "\n",
        "  c = a * b\n",
        "\n",
        "  # return sends back the answer\n",
        "\n",
        "  return c\n",
        "\n",
        "\n"
      ],
      "metadata": {
        "id": "1sUJx2-lTPZj"
      },
      "execution_count": null,
      "outputs": []
    },
    {
      "cell_type": "code",
      "source": [
        "# you use the function by writing the name and values to send it\n",
        "\n",
        "x=multiply(3,4)\n",
        "\n",
        "print(x)\n",
        "\n",
        "\n"
      ],
      "metadata": {
        "colab": {
          "base_uri": "https://localhost:8080/"
        },
        "id": "qId_CaubUBTz",
        "outputId": "c70ff588-e8b3-4bc4-d82a-194dd296a7f1"
      },
      "execution_count": null,
      "outputs": [
        {
          "output_type": "stream",
          "name": "stdout",
          "text": [
            "12\n"
          ]
        }
      ]
    },
    {
      "cell_type": "code",
      "source": [
        "# make a function to add two numbers\n",
        "\n",
        "# how can we make a function to add two numbers\n",
        "\n",
        "#here we make the function\n",
        "\n",
        "def add(a,b):\n",
        "\n",
        "  c = a + b\n",
        "\n",
        "  return c\n",
        "\n",
        "# here we use the function\n",
        "\n",
        "add(7,5)"
      ],
      "metadata": {
        "colab": {
          "base_uri": "https://localhost:8080/"
        },
        "id": "XMeHaSUgVE_9",
        "outputId": "b50b72fa-5b4e-4bd4-f5f8-dfd88c69407e"
      },
      "execution_count": null,
      "outputs": [
        {
          "output_type": "execute_result",
          "data": {
            "text/plain": [
              "12"
            ]
          },
          "metadata": {},
          "execution_count": 6
        }
      ]
    },
    {
      "cell_type": "code",
      "source": [
        "# make a function to divide  two numbers\n",
        "\n",
        "def divide(a,b):\n",
        "\n",
        "  c = a / b\n",
        "\n",
        "  return c\n",
        "\n",
        "\n",
        "divide(12,3)\n",
        "\n",
        "\n",
        "\n"
      ],
      "metadata": {
        "colab": {
          "base_uri": "https://localhost:8080/"
        },
        "id": "Wv-TSFLjVKbF",
        "outputId": "243d83f2-c4f6-4f1b-96e4-3cd671ac214b"
      },
      "execution_count": null,
      "outputs": [
        {
          "output_type": "execute_result",
          "data": {
            "text/plain": [
              "4.0"
            ]
          },
          "metadata": {},
          "execution_count": 7
        }
      ]
    },
    {
      "cell_type": "code",
      "source": [
        "x=add(2,3) + multiply(2,3)\n",
        "print(\"x=\", x)\n",
        "\n"
      ],
      "metadata": {
        "colab": {
          "base_uri": "https://localhost:8080/"
        },
        "id": "b94m-adNVvBV",
        "outputId": "a5869dbd-ec49-41fd-bd2d-e46a23c6bcf5"
      },
      "execution_count": null,
      "outputs": [
        {
          "output_type": "stream",
          "name": "stdout",
          "text": [
            "x= 11\n"
          ]
        }
      ]
    },
    {
      "cell_type": "code",
      "source": [
        "\n",
        "def addThree(a,b, c):\n",
        "\n",
        "  f = a + b + c\n",
        "\n",
        "  return f\n",
        "\n",
        "\n",
        "\n",
        "addThree(7,5, 6)"
      ],
      "metadata": {
        "colab": {
          "base_uri": "https://localhost:8080/"
        },
        "id": "BKLZ629gWPBq",
        "outputId": "406e1e98-32a3-45a7-d59f-5731ec794872"
      },
      "execution_count": null,
      "outputs": [
        {
          "output_type": "execute_result",
          "data": {
            "text/plain": [
              "18"
            ]
          },
          "metadata": {},
          "execution_count": 9
        }
      ]
    },
    {
      "cell_type": "code",
      "source": [
        "# so a function can call another function\n",
        "\n",
        "\n",
        "add(multiply(2,3),multiply(3,4))\n",
        "\n"
      ],
      "metadata": {
        "colab": {
          "base_uri": "https://localhost:8080/"
        },
        "id": "SQzhI_2kWogP",
        "outputId": "613ad542-f43b-4c54-baa1-eff7bb9a22c9"
      },
      "execution_count": null,
      "outputs": [
        {
          "output_type": "execute_result",
          "data": {
            "text/plain": [
              "18"
            ]
          },
          "metadata": {},
          "execution_count": 10
        }
      ]
    },
    {
      "cell_type": "code",
      "source": [
        "'''\n",
        "homework\n",
        "\n",
        "\n",
        "1.  make a function to multiply 3 numbers\n",
        "2.  make a function to subtract 2 numbers\n",
        "3.  calculate (2*3*4) + (4-2) by using the functions you created in 1. and 2.\n",
        "\n",
        "\n",
        "for the next time we will make a function that can have any nunber of inputs\n",
        "because we don't want add, addThree, addFour\n",
        "\n",
        "\n",
        "\n",
        "'''"
      ],
      "metadata": {
        "id": "DtFTvKHjWBQu",
        "outputId": "1543df23-7858-4b72-fa17-2690e4ae818c",
        "colab": {
          "base_uri": "https://localhost:8080/",
          "height": 72
        }
      },
      "execution_count": null,
      "outputs": [
        {
          "output_type": "execute_result",
          "data": {
            "text/plain": [
              "\"\\nhomework\\n\\n\\n1.  make a function to multiply 3 numbers\\n2.  make a function to subtract 2 numbers\\n3.  calculate (2*3*4) + (4-2) by using the functions you created in 1. and 2.\\n\\n\\nfor the next time we will make a function that can have any nunber of inputs\\nbecause we don't want add, addThree, addFour\\n\\n\\n\\n\""
            ],
            "application/vnd.google.colaboratory.intrinsic+json": {
              "type": "string"
            }
          },
          "metadata": {},
          "execution_count": 11
        }
      ]
    }
  ]
}